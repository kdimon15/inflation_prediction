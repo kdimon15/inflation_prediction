{
 "cells": [
  {
   "cell_type": "code",
   "execution_count": 1,
   "metadata": {},
   "outputs": [],
   "source": [
    "import pandas as pd\n",
    "from sklearn.preprocessing import LabelEncoder\n",
    "import numpy as np\n",
    "import pickle"
   ]
  },
  {
   "cell_type": "code",
   "execution_count": 2,
   "metadata": {},
   "outputs": [],
   "source": [
    "train_df = pd.read_csv('data/start_data/train_df.csv', sep='\\t')"
   ]
  },
  {
   "cell_type": "code",
   "execution_count": 4,
   "metadata": {},
   "outputs": [],
   "source": [
    "dicts = {}\n",
    "train_df['StockStatus'] = train_df['StockStatus'].str.lower().replace({'instock': 1, 'outofstock': 0}).astype(np.int8)\n",
    "train_df['DateObserve'] = pd.to_datetime(train_df['DateObserve'])\n",
    "dicts['WebPriceId'] = LabelEncoder().fit(train_df['WebPriceId'])\n",
    "train_df['WebPriceId'] = dicts['WebPriceId'].transform(train_df['WebPriceId'])"
   ]
  },
  {
   "cell_type": "code",
   "execution_count": 7,
   "metadata": {},
   "outputs": [],
   "source": [
    "with open('data/доп/webpriceid_enc.pkl', 'wb') as f:\n",
    "    pickle.dump(dicts, f)"
   ]
  },
  {
   "cell_type": "code",
   "execution_count": 8,
   "metadata": {},
   "outputs": [],
   "source": [
    "train_df.to_parquet('data/train_df.parquet', compression='gzip')"
   ]
  }
 ],
 "metadata": {
  "kernelspec": {
   "display_name": "Python 3.8.12 ('venv': venv)",
   "language": "python",
   "name": "python3"
  },
  "language_info": {
   "codemirror_mode": {
    "name": "ipython",
    "version": 3
   },
   "file_extension": ".py",
   "mimetype": "text/x-python",
   "name": "python",
   "nbconvert_exporter": "python",
   "pygments_lexer": "ipython3",
   "version": "3.8.12"
  },
  "orig_nbformat": 4,
  "vscode": {
   "interpreter": {
    "hash": "97e02b2c93bc506c5a14c8ebda983bbe3f9e82d1c1ca0c55c31db3f14786e20f"
   }
  }
 },
 "nbformat": 4,
 "nbformat_minor": 2
}
