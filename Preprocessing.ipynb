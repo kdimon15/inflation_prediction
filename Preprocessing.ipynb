{
 "cells": [
  {
   "cell_type": "code",
   "execution_count": 6,
   "metadata": {},
   "outputs": [],
   "source": [
    "import pandas as pd\n",
    "from sklearn.preprocessing import LabelEncoder\n",
    "import numpy as np\n",
    "import pickle"
   ]
  },
  {
   "cell_type": "code",
   "execution_count": 2,
   "metadata": {},
   "outputs": [],
   "source": [
    "train_df = pd.read_csv('data/start_data/train_df.csv', sep='\\t')"
   ]
  },
  {
   "cell_type": "code",
   "execution_count": 3,
   "metadata": {},
   "outputs": [
    {
     "data": {
      "text/html": [
       "<div>\n",
       "<style scoped>\n",
       "    .dataframe tbody tr th:only-of-type {\n",
       "        vertical-align: middle;\n",
       "    }\n",
       "\n",
       "    .dataframe tbody tr th {\n",
       "        vertical-align: top;\n",
       "    }\n",
       "\n",
       "    .dataframe thead th {\n",
       "        text-align: right;\n",
       "    }\n",
       "</style>\n",
       "<table border=\"1\" class=\"dataframe\">\n",
       "  <thead>\n",
       "    <tr style=\"text-align: right;\">\n",
       "      <th></th>\n",
       "      <th>WebPriceId</th>\n",
       "      <th>DateObserve</th>\n",
       "      <th>StockStatus</th>\n",
       "      <th>CurrentPrice</th>\n",
       "    </tr>\n",
       "  </thead>\n",
       "  <tbody>\n",
       "    <tr>\n",
       "      <th>0</th>\n",
       "      <td>1</td>\n",
       "      <td>2020-06-25 19:23:21.010</td>\n",
       "      <td>InStock</td>\n",
       "      <td>49.0</td>\n",
       "    </tr>\n",
       "    <tr>\n",
       "      <th>1</th>\n",
       "      <td>1</td>\n",
       "      <td>2020-09-08 07:39:23.593</td>\n",
       "      <td>OutOfStock</td>\n",
       "      <td>NaN</td>\n",
       "    </tr>\n",
       "    <tr>\n",
       "      <th>2</th>\n",
       "      <td>1</td>\n",
       "      <td>2020-09-08 15:39:01.663</td>\n",
       "      <td>InStock</td>\n",
       "      <td>49.0</td>\n",
       "    </tr>\n",
       "    <tr>\n",
       "      <th>3</th>\n",
       "      <td>1</td>\n",
       "      <td>2020-09-08 23:42:25.007</td>\n",
       "      <td>OutOfStock</td>\n",
       "      <td>NaN</td>\n",
       "    </tr>\n",
       "    <tr>\n",
       "      <th>4</th>\n",
       "      <td>1</td>\n",
       "      <td>2020-09-09 07:38:41.163</td>\n",
       "      <td>InStock</td>\n",
       "      <td>49.0</td>\n",
       "    </tr>\n",
       "    <tr>\n",
       "      <th>...</th>\n",
       "      <td>...</td>\n",
       "      <td>...</td>\n",
       "      <td>...</td>\n",
       "      <td>...</td>\n",
       "    </tr>\n",
       "    <tr>\n",
       "      <th>69173881</th>\n",
       "      <td>10001000</td>\n",
       "      <td>2022-04-04 13:21:35.637</td>\n",
       "      <td>InStock</td>\n",
       "      <td>291.0</td>\n",
       "    </tr>\n",
       "    <tr>\n",
       "      <th>69173882</th>\n",
       "      <td>10001000</td>\n",
       "      <td>2022-05-06 18:31:15.190</td>\n",
       "      <td>InStock</td>\n",
       "      <td>242.0</td>\n",
       "    </tr>\n",
       "    <tr>\n",
       "      <th>69173883</th>\n",
       "      <td>10001000</td>\n",
       "      <td>2022-05-19 15:22:09.887</td>\n",
       "      <td>InStock</td>\n",
       "      <td>231.0</td>\n",
       "    </tr>\n",
       "    <tr>\n",
       "      <th>69173884</th>\n",
       "      <td>10001000</td>\n",
       "      <td>2022-05-31 11:42:40.817</td>\n",
       "      <td>InStock</td>\n",
       "      <td>280.0</td>\n",
       "    </tr>\n",
       "    <tr>\n",
       "      <th>69173885</th>\n",
       "      <td>10001000</td>\n",
       "      <td>2022-05-31 20:17:28.967</td>\n",
       "      <td>InStock</td>\n",
       "      <td>335.0</td>\n",
       "    </tr>\n",
       "  </tbody>\n",
       "</table>\n",
       "<p>69173886 rows × 4 columns</p>\n",
       "</div>"
      ],
      "text/plain": [
       "          WebPriceId              DateObserve StockStatus  CurrentPrice\n",
       "0                  1  2020-06-25 19:23:21.010     InStock          49.0\n",
       "1                  1  2020-09-08 07:39:23.593  OutOfStock           NaN\n",
       "2                  1  2020-09-08 15:39:01.663     InStock          49.0\n",
       "3                  1  2020-09-08 23:42:25.007  OutOfStock           NaN\n",
       "4                  1  2020-09-09 07:38:41.163     InStock          49.0\n",
       "...              ...                      ...         ...           ...\n",
       "69173881    10001000  2022-04-04 13:21:35.637     InStock         291.0\n",
       "69173882    10001000  2022-05-06 18:31:15.190     InStock         242.0\n",
       "69173883    10001000  2022-05-19 15:22:09.887     InStock         231.0\n",
       "69173884    10001000  2022-05-31 11:42:40.817     InStock         280.0\n",
       "69173885    10001000  2022-05-31 20:17:28.967     InStock         335.0\n",
       "\n",
       "[69173886 rows x 4 columns]"
      ]
     },
     "execution_count": 3,
     "metadata": {},
     "output_type": "execute_result"
    }
   ],
   "source": [
    "train_df"
   ]
  },
  {
   "cell_type": "code",
   "execution_count": 4,
   "metadata": {},
   "outputs": [],
   "source": [
    "dicts = {}\n",
    "train_df['StockStatus'] = train_df['StockStatus'].str.lower().replace({'instock': 1, 'outofstock': 0}).astype(np.int8)\n",
    "train_df['DateObserve'] = pd.to_datetime(train_df['DateObserve'])\n",
    "dicts['WebPriceId'] = LabelEncoder().fit(train_df['WebPriceId'])\n",
    "train_df['WebPriceId'] = dicts['WebPriceId'].transform(train_df['WebPriceId'])"
   ]
  },
  {
   "cell_type": "code",
   "execution_count": 7,
   "metadata": {},
   "outputs": [],
   "source": [
    "with open('data/доп/webpriceid_enc.pkl', 'wb') as f:\n",
    "    pickle.dump(dicts, f)"
   ]
  },
  {
   "cell_type": "code",
   "execution_count": 8,
   "metadata": {},
   "outputs": [],
   "source": [
    "train_df.to_parquet('data/train_df.parquet', compression='gzip')"
   ]
  },
  {
   "cell_type": "code",
   "execution_count": null,
   "metadata": {},
   "outputs": [],
   "source": []
  }
 ],
 "metadata": {
  "kernelspec": {
   "display_name": "Python 3.8.12 ('venv': venv)",
   "language": "python",
   "name": "python3"
  },
  "language_info": {
   "codemirror_mode": {
    "name": "ipython",
    "version": 3
   },
   "file_extension": ".py",
   "mimetype": "text/x-python",
   "name": "python",
   "nbconvert_exporter": "python",
   "pygments_lexer": "ipython3",
   "version": "3.8.12"
  },
  "orig_nbformat": 4,
  "vscode": {
   "interpreter": {
    "hash": "97e02b2c93bc506c5a14c8ebda983bbe3f9e82d1c1ca0c55c31db3f14786e20f"
   }
  }
 },
 "nbformat": 4,
 "nbformat_minor": 2
}
