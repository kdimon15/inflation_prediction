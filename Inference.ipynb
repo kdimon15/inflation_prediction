{
 "cells": [
  {
   "cell_type": "code",
   "execution_count": 1,
   "metadata": {},
   "outputs": [],
   "source": [
    "import pandas as pd\n",
    "from sklearn.preprocessing import LabelEncoder\n",
    "import numpy as np\n",
    "import matplotlib.pyplot as plt\n",
    "from catboost import CatBoostRegressor, Pool\n",
    "import pickle\n",
    "from sklearn.linear_model import LinearRegression\n",
    "from tqdm import tqdm\n",
    "import warnings\n",
    "import gc\n",
    "import math\n",
    "from sklearn.cluster import KMeans\n",
    "from collections import Counter\n",
    "import pickle"
   ]
  },
  {
   "cell_type": "code",
   "execution_count": 2,
   "metadata": {},
   "outputs": [],
   "source": [
    "with open('models/main_model.pkl', 'rb') as f:\n",
    "    main_model = pickle.load(f)\n",
    "\n",
    "with open('models/cluster_model.pkl', 'rb') as f:\n",
    "    cluster_model, cluster_classes = pickle.load(f)\n",
    "    \n",
    "# with open('models/adopt_main_model.pkl', 'rb') as f:\n",
    "#     adopt_main_model = pickle.load(f)\n",
    "    \n",
    "# with open('models/adopt_cluster_model', 'rb') as f:\n",
    "#     adopt_cluster_model, adopt_cluster_classes = pickle.load(f)\n",
    "    \n",
    "id = 1"
   ]
  },
  {
   "cell_type": "code",
   "execution_count": 3,
   "metadata": {},
   "outputs": [],
   "source": [
    "# test_df = pd.read_csv('inference_data/data/', sep='\\t')\n",
    "test_df = pd.read_csv('data/start_data/train_df.csv', sep='\\t')\n",
    "test_df['StockStatus'] = test_df['StockStatus'].str.lower().replace({'instock': 1, 'outofstock': 0}).astype(np.int8)\n",
    "\n",
    "test_df['DateObserve'] = pd.to_datetime(test_df['DateObserve'])\n",
    "a = LabelEncoder().fit(test_df['WebPriceId'])\n",
    "test_df['WebPriceId'] = a.transform(test_df['WebPriceId'])"
   ]
  },
  {
   "cell_type": "code",
   "execution_count": 5,
   "metadata": {},
   "outputs": [
    {
     "ename": "KeyError",
     "evalue": "'DateObserve'",
     "output_type": "error",
     "traceback": [
      "\u001b[0;31m---------------------------------------------------------------------------\u001b[0m",
      "\u001b[0;31mKeyError\u001b[0m                                  Traceback (most recent call last)",
      "File \u001b[0;32m~/Desktop/хакатон/v1/venv/lib/python3.8/site-packages/pandas/core/indexes/base.py:3800\u001b[0m, in \u001b[0;36mIndex.get_loc\u001b[0;34m(self, key, method, tolerance)\u001b[0m\n\u001b[1;32m   3799\u001b[0m \u001b[39mtry\u001b[39;00m:\n\u001b[0;32m-> 3800\u001b[0m     \u001b[39mreturn\u001b[39;00m \u001b[39mself\u001b[39;49m\u001b[39m.\u001b[39;49m_engine\u001b[39m.\u001b[39;49mget_loc(casted_key)\n\u001b[1;32m   3801\u001b[0m \u001b[39mexcept\u001b[39;00m \u001b[39mKeyError\u001b[39;00m \u001b[39mas\u001b[39;00m err:\n",
      "File \u001b[0;32m~/Desktop/хакатон/v1/venv/lib/python3.8/site-packages/pandas/_libs/index.pyx:138\u001b[0m, in \u001b[0;36mpandas._libs.index.IndexEngine.get_loc\u001b[0;34m()\u001b[0m\n",
      "File \u001b[0;32m~/Desktop/хакатон/v1/venv/lib/python3.8/site-packages/pandas/_libs/index.pyx:165\u001b[0m, in \u001b[0;36mpandas._libs.index.IndexEngine.get_loc\u001b[0;34m()\u001b[0m\n",
      "File \u001b[0;32mpandas/_libs/hashtable_class_helper.pxi:5745\u001b[0m, in \u001b[0;36mpandas._libs.hashtable.PyObjectHashTable.get_item\u001b[0;34m()\u001b[0m\n",
      "File \u001b[0;32mpandas/_libs/hashtable_class_helper.pxi:5753\u001b[0m, in \u001b[0;36mpandas._libs.hashtable.PyObjectHashTable.get_item\u001b[0;34m()\u001b[0m\n",
      "\u001b[0;31mKeyError\u001b[0m: 'DateObserve'",
      "\nThe above exception was the direct cause of the following exception:\n",
      "\u001b[0;31mKeyError\u001b[0m                                  Traceback (most recent call last)",
      "Cell \u001b[0;32mIn [5], line 1\u001b[0m\n\u001b[0;32m----> 1\u001b[0m test_df[\u001b[38;5;124m'\u001b[39m\u001b[38;5;124mmonth\u001b[39m\u001b[38;5;124m'\u001b[39m] \u001b[38;5;241m=\u001b[39m \u001b[43mtest_df\u001b[49m\u001b[43m[\u001b[49m\u001b[38;5;124;43m'\u001b[39;49m\u001b[38;5;124;43mDateObserve\u001b[39;49m\u001b[38;5;124;43m'\u001b[39;49m\u001b[43m]\u001b[49m\u001b[38;5;241m.\u001b[39mdt\u001b[38;5;241m.\u001b[39mmonth\n\u001b[1;32m      2\u001b[0m test_df[\u001b[38;5;124m'\u001b[39m\u001b[38;5;124myear\u001b[39m\u001b[38;5;124m'\u001b[39m] \u001b[38;5;241m=\u001b[39m test_df[\u001b[38;5;124m'\u001b[39m\u001b[38;5;124mDateObserve\u001b[39m\u001b[38;5;124m'\u001b[39m]\u001b[38;5;241m.\u001b[39mdt\u001b[38;5;241m.\u001b[39myear\n\u001b[1;32m      3\u001b[0m test_df[\u001b[38;5;124m'\u001b[39m\u001b[38;5;124mday\u001b[39m\u001b[38;5;124m'\u001b[39m] \u001b[38;5;241m=\u001b[39m test_df[\u001b[38;5;124m'\u001b[39m\u001b[38;5;124mDateObserve\u001b[39m\u001b[38;5;124m'\u001b[39m]\u001b[38;5;241m.\u001b[39mdt\u001b[38;5;241m.\u001b[39mday\n",
      "File \u001b[0;32m~/Desktop/хакатон/v1/venv/lib/python3.8/site-packages/pandas/core/frame.py:3805\u001b[0m, in \u001b[0;36mDataFrame.__getitem__\u001b[0;34m(self, key)\u001b[0m\n\u001b[1;32m   3803\u001b[0m \u001b[39mif\u001b[39;00m \u001b[39mself\u001b[39m\u001b[39m.\u001b[39mcolumns\u001b[39m.\u001b[39mnlevels \u001b[39m>\u001b[39m \u001b[39m1\u001b[39m:\n\u001b[1;32m   3804\u001b[0m     \u001b[39mreturn\u001b[39;00m \u001b[39mself\u001b[39m\u001b[39m.\u001b[39m_getitem_multilevel(key)\n\u001b[0;32m-> 3805\u001b[0m indexer \u001b[39m=\u001b[39m \u001b[39mself\u001b[39;49m\u001b[39m.\u001b[39;49mcolumns\u001b[39m.\u001b[39;49mget_loc(key)\n\u001b[1;32m   3806\u001b[0m \u001b[39mif\u001b[39;00m is_integer(indexer):\n\u001b[1;32m   3807\u001b[0m     indexer \u001b[39m=\u001b[39m [indexer]\n",
      "File \u001b[0;32m~/Desktop/хакатон/v1/venv/lib/python3.8/site-packages/pandas/core/indexes/base.py:3802\u001b[0m, in \u001b[0;36mIndex.get_loc\u001b[0;34m(self, key, method, tolerance)\u001b[0m\n\u001b[1;32m   3800\u001b[0m     \u001b[39mreturn\u001b[39;00m \u001b[39mself\u001b[39m\u001b[39m.\u001b[39m_engine\u001b[39m.\u001b[39mget_loc(casted_key)\n\u001b[1;32m   3801\u001b[0m \u001b[39mexcept\u001b[39;00m \u001b[39mKeyError\u001b[39;00m \u001b[39mas\u001b[39;00m err:\n\u001b[0;32m-> 3802\u001b[0m     \u001b[39mraise\u001b[39;00m \u001b[39mKeyError\u001b[39;00m(key) \u001b[39mfrom\u001b[39;00m \u001b[39merr\u001b[39;00m\n\u001b[1;32m   3803\u001b[0m \u001b[39mexcept\u001b[39;00m \u001b[39mTypeError\u001b[39;00m:\n\u001b[1;32m   3804\u001b[0m     \u001b[39m# If we have a listlike key, _check_indexing_error will raise\u001b[39;00m\n\u001b[1;32m   3805\u001b[0m     \u001b[39m#  InvalidIndexError. Otherwise we fall through and re-raise\u001b[39;00m\n\u001b[1;32m   3806\u001b[0m     \u001b[39m#  the TypeError.\u001b[39;00m\n\u001b[1;32m   3807\u001b[0m     \u001b[39mself\u001b[39m\u001b[39m.\u001b[39m_check_indexing_error(key)\n",
      "\u001b[0;31mKeyError\u001b[0m: 'DateObserve'"
     ]
    }
   ],
   "source": [
    "test_df['month'] = test_df['DateObserve'].dt.month\n",
    "test_df['year'] = test_df['DateObserve'].dt.year\n",
    "test_df['day'] = test_df['DateObserve'].dt.day\n",
    "\n",
    "test_df['year'] -= test_df['year'].min()\n",
    "test_df['num_month'] = test_df['year'] * 12 + test_df['month']\n",
    "test_df['num_day'] = test_df['year']*366 + test_df['month'] * 31 + test_df['day']\n",
    "test_df = test_df.drop(['DateObserve', 'month', 'year'], axis=1)\n",
    "\n",
    "test_df = test_df[test_df['num_month']>=test_df['num_month'].max()-7]\n",
    "\n",
    "tmp_df = test_df[test_df['StockStatus']==1][['WebPriceId', 'num_month']].drop_duplicates().groupby('WebPriceId').count()\n",
    "goods = tmp_df[tmp_df['num_month']>=2].index\n",
    "test_df = test_df[test_df['WebPriceId'].isin(goods)]\n",
    "\n",
    "test_df = test_df.sort_values('day').reset_index(drop=True)"
   ]
  },
  {
   "cell_type": "code",
   "execution_count": null,
   "metadata": {},
   "outputs": [],
   "source": [
    "features = []\n",
    "\n",
    "goods = test_df[test_df['num_month']>=2].index\n",
    "        \n",
    "grouped = test_df[test_df['WebPriceId'].isin(goods)].groupby(['num_month', 'WebPriceId']).agg({'CurrentPrice': 'last'}).unstack()\n",
    "grouped = grouped.fillna(method='ffill').fillna(method='bfill')\n",
    "grouped.columns = grouped.columns.droplevel(0)\n",
    "\n",
    "month_change = np.exp(np.log((grouped.pct_change()+1)))\n",
    "month_change = month_change[month_change.index!=test_df['num_month'].max()-3]\n",
    "\n",
    "values = month_change.values.transpose(1,0)\n",
    "main = [values[x] for x in range(len(month_change.columns)) if np.array(values[x]).max() < 2.5 and np.array(values[x]).min()>0.4]\n",
    "for j in range(len(main)):\n",
    "    new_val = [x for x in main[j] if x != 1]\n",
    "    main[j] = new_val\n",
    "    \n",
    "cluster_features = [[np.mean(y), np.median(y), np.std(y), len(y)] for y in main if len(y) > 0]\n",
    "preds = cluster_model.predict(cluster_features)\n",
    "c = month_change.columns.tolist()\n",
    "\n",
    "for j in cluster_classes:\n",
    "    good_cols = [c[x] for x in range(len(preds)) if preds[x] == j]\n",
    "    cur_df = test_df[test_df['WebPriceId'].isin(good_cols)]\n",
    "    \n",
    "    tmp_df = cur_df[['WebPriceId', 'num_month']].drop_duplicates().groupby('WebPriceId').count()\n",
    "    goods = tmp_df[tmp_df['num_month']>=2].index\n",
    "    cur_df = cur_df[cur_df['WebPriceId'].isin(goods)]\n",
    "\n",
    "    cur_df = cur_df[cur_df['WebPriceId'].isin(cur_df[cur_df['num_month']==test_df['num_month'].max()]['WebPriceId'].unique())]\n",
    "\n",
    "    grouped = cur_df.groupby(['num_month', 'WebPriceId']).agg({'CurrentPrice': 'last'}).unstack()\n",
    "    grouped = grouped.fillna(method='ffill').fillna(method='bfill')\n",
    "    grouped.columns = grouped.columns.droplevel(0)\n",
    "\n",
    "\n",
    "    month_change = np.exp(np.log((grouped.pct_change()+1)))\n",
    "    month_change = month_change[month_change.index==test_df['num_month'].max()]\n",
    "\n",
    "    values = month_change.dropna(axis=1).values[0]\n",
    "    sort_values = [x for x in values if 0.4 < x < 2.5]\n",
    "    \n",
    "    features.append([np.average(sort_values, weights=[0.2 if x > 1.6 else 1 for x in sort_values])-1])\n",
    "    features.append([np.average(sort_values)-1, np.std(sort_values)])\n",
    "    \n",
    "features = np.concatenate(features)\n",
    "\n",
    "pred = main_model.predict([features])[0]\n",
    "\n",
    "with open(f'inference_data/submits/test_{id}.txt', 'w') as f:\n",
    "    f.write(pred)"
   ]
  },
  {
   "cell_type": "code",
   "execution_count": null,
   "metadata": {},
   "outputs": [],
   "source": []
  },
  {
   "cell_type": "code",
   "execution_count": null,
   "metadata": {},
   "outputs": [],
   "source": []
  },
  {
   "cell_type": "code",
   "execution_count": null,
   "metadata": {},
   "outputs": [],
   "source": []
  }
 ],
 "metadata": {
  "kernelspec": {
   "display_name": "Python 3.8.12 ('venv': venv)",
   "language": "python",
   "name": "python3"
  },
  "language_info": {
   "codemirror_mode": {
    "name": "ipython",
    "version": 3
   },
   "file_extension": ".py",
   "mimetype": "text/x-python",
   "name": "python",
   "nbconvert_exporter": "python",
   "pygments_lexer": "ipython3",
   "version": "3.8.12"
  },
  "orig_nbformat": 4,
  "vscode": {
   "interpreter": {
    "hash": "97e02b2c93bc506c5a14c8ebda983bbe3f9e82d1c1ca0c55c31db3f14786e20f"
   }
  }
 },
 "nbformat": 4,
 "nbformat_minor": 2
}
