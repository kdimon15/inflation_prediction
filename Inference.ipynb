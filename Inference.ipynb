{
 "cells": [
  {
   "cell_type": "code",
   "execution_count": null,
   "metadata": {},
   "outputs": [],
   "source": [
    "import pandas as pd\n",
    "from sklearn.preprocessing import LabelEncoder\n",
    "import numpy as np\n",
    "import matplotlib.pyplot as plt\n",
    "from catboost import CatBoostRegressor, Pool\n",
    "import pickle\n",
    "from sklearn.linear_model import LinearRegression\n",
    "from tqdm import tqdm\n",
    "import warnings\n",
    "import gc\n",
    "import math\n",
    "from sklearn.cluster import KMeans\n",
    "from collections import Counter\n",
    "import pickle"
   ]
  },
  {
   "cell_type": "code",
   "execution_count": null,
   "metadata": {},
   "outputs": [],
   "source": [
    "with open('models/main_model.pkl', 'rb') as f:\n",
    "    main_model = pickle.load(f)\n",
    "\n",
    "with open('models/cluster_model.pkl', 'rb') as f:\n",
    "    cluster_model = pickle.load(f)\n",
    "    \n",
    "with open('models/adopt_main_model.pkl', 'rb') as f:\n",
    "    adopt_main_model = pickle.load(f)\n",
    "    \n",
    "with open('models/adopt_cluster_model', 'rb') as f:\n",
    "    adopt_cluster_model = pickle.load(f)\n",
    "    \n",
    "id = 1"
   ]
  },
  {
   "cell_type": "code",
   "execution_count": null,
   "metadata": {},
   "outputs": [],
   "source": [
    "test_df = pd.read_csv('inference_data/data/', sep='\\t')\n",
    "test_df['StockStatus'] = test_df['StockStatus'].str.lower().replace({'instock': 1, 'outofstock': 0}).astype(np.int8)\n",
    "test_df['DateObserve'] = pd.to_datetime(test_df['DateObserve'])\n",
    "a = LabelEncoder().fit(test_df['WebPriceId'])\n",
    "test_df['WebPriceId'] = a.transform(test_df['WebPriceId'])"
   ]
  },
  {
   "cell_type": "code",
   "execution_count": null,
   "metadata": {},
   "outputs": [],
   "source": [
    "test_df['month'] = test_df['DateObserve'].dt.month\n",
    "test_df['year'] = test_df['DateObserve'].dt.year\n",
    "test_df['day'] = test_df['DateObserve'].dt.day\n",
    "\n",
    "test_df['year'] -= test_df['year'].min()\n",
    "test_df['num_month'] = test_df['year'] * 12 + test_df['month']\n",
    "test_df['num_day'] = test_df['year']*366 + test_df['month'] * 31 + test_df['day']\n",
    "test_df = test_df.drop(['DateObserve', 'month', 'year'], axis=1)\n",
    "\n",
    "test_df = test_df[test_df['num_month']>=test_df['num_month'].max()-7]"
   ]
  },
  {
   "cell_type": "code",
   "execution_count": null,
   "metadata": {},
   "outputs": [],
   "source": [
    "tmp_df = test_df[test_df['StockStatus']==1][['WebPriceId', 'num_month']].drop_duplicates().groupby('WebPriceId').count()\n",
    "goods = tmp_df[tmp_df['num_month']>=2].index\n",
    "test_df = test_df[test_df['WebPriceId'].isin(goods)]"
   ]
  },
  {
   "cell_type": "code",
   "execution_count": null,
   "metadata": {},
   "outputs": [],
   "source": [
    "features = []\n",
    "\n",
    "goods = test_df[test_df['num_month']>=2].index\n",
    "        \n",
    "grouped = test_df[test_df['WebPriceId'].isin(goods)].groupby(['num_month', 'WebPriceId']).agg({'CurrentPrice': 'last'}).unstack()\n",
    "grouped = grouped.fillna(method='ffill').fillna(method='bfill')\n",
    "grouped.columns = grouped.columns.droplevel(0)\n",
    "\n",
    "month_change = np.exp(np.log((grouped.pct_change()+1)))\n",
    "month_change = month_change[month_change.index!=test_df['num_month'].max()-3]\n",
    "\n",
    "values = month_change.values.transpose(1,0)\n",
    "main = [values[x] for x in range(len(month_change.columns)) if np.array(values[x]).max() < 2.5 and np.array(values[x]).min()>0.4]\n",
    "for j in range(len(main)):\n",
    "    new_val = [x for x in main[j] if x != 1]\n",
    "    main[j] = new_val\n",
    "    \n",
    "cluster_features = [[np.mean(y), np.median(y), np.std(y), len(y)] for y in main if len(y) > 0]\n",
    "preds = cluster_model.predict(cluster_features)\n",
    "c = month_change.columns.tolist()\n",
    "\n",
    "for j in good_cluster_classes:\n",
    "    good_cols = [c[x] for x in range(len(preds)) if preds[x] == j]\n",
    "    cur_df = test_df[test_df['WebPriceId'].isin(good_cols)]\n",
    "    \n",
    "    tmp_df = cur_df[['WebPriceId', 'num_month']].drop_duplicates().groupby('WebPriceId').count()\n",
    "    goods = tmp_df[tmp_df['num_month']>=2].index\n",
    "    cur_df = cur_df[cur_df['WebPriceId'].isin(goods)]\n",
    "\n",
    "    cur_df = cur_df[cur_df['WebPriceId'].isin(cur_df[cur_df['num_month']==test_df['num_month'].max()]['WebPriceId'].unique())]\n",
    "\n",
    "    grouped = cur_df.groupby(['num_month', 'WebPriceId']).agg({'CurrentPrice': 'last'}).unstack()\n",
    "    grouped = grouped.fillna(method='ffill').fillna(method='bfill')\n",
    "    grouped.columns = grouped.columns.droplevel(0)\n",
    "\n",
    "\n",
    "    month_change = np.exp(np.log((grouped.pct_change()+1)))\n",
    "    month_change = month_change[month_change.index==test_df['num_month'].max()]\n",
    "\n",
    "    values = month_change.dropna(axis=1).values[0]\n",
    "    sort_values = [x for x in values if 0.4 < x < 2.5]\n",
    "    \n",
    "    features.append([np.average(sort_values, weights=[0.2 if x > 1.6 else 1 for x in sort_values])-1])\n",
    "    features.append([np.average(sort_values)-1, np.std(sort_values)])\n",
    "    \n",
    "features = np.concatenate(features)\n",
    "\n",
    "pred = main_model.predict([features])[0]\n",
    "\n",
    "with open(f'inference_data/submits/test_{id}.txt', 'w') as f:\n",
    "    f.write(pred)"
   ]
  },
  {
   "cell_type": "code",
   "execution_count": null,
   "metadata": {},
   "outputs": [],
   "source": []
  },
  {
   "cell_type": "code",
   "execution_count": null,
   "metadata": {},
   "outputs": [],
   "source": []
  },
  {
   "cell_type": "code",
   "execution_count": null,
   "metadata": {},
   "outputs": [],
   "source": []
  }
 ],
 "metadata": {
  "kernelspec": {
   "display_name": "Python 3.8.12 64-bit",
   "language": "python",
   "name": "python3"
  },
  "language_info": {
   "name": "python",
   "version": "3.8.12"
  },
  "orig_nbformat": 4,
  "vscode": {
   "interpreter": {
    "hash": "52b9dc9851c4d75e5d394f6ebc5297be64cd066256926d9dbc8574aabcf1c5d6"
   }
  }
 },
 "nbformat": 4,
 "nbformat_minor": 2
}
